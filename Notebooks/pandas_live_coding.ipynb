{
 "cells": [
  {
   "cell_type": "markdown",
   "metadata": {},
   "source": [
    "# Pandas review\n",
    "\n",
    "This notebook serves as a review of the first four sections of [Chapter 3](https://jakevdp.github.io/PythonDataScienceHandbook/03.00-introduction-to-pandas.html) of the Python Data Science Handbook.\n",
    "\n",
    "We're going to be using a dataset about movies to try out processing some data with Pandas.\n",
    "\n",
    "We start with some standard imports:"
   ]
  },
  {
   "cell_type": "code",
   "execution_count": null,
   "metadata": {},
   "outputs": [],
   "source": [
    "import pandas as pd\n",
    "import numpy as np"
   ]
  },
  {
   "cell_type": "markdown",
   "metadata": {},
   "source": [
    "Then we load the data from a local file and checkout the data:"
   ]
  },
  {
   "cell_type": "code",
   "execution_count": null,
   "metadata": {},
   "outputs": [],
   "source": [
    "df = pd.read_csv('movies_metadata.csv').dropna(axis=1, how='all')\n",
    "df.head()"
   ]
  },
  {
   "cell_type": "markdown",
   "metadata": {},
   "source": [
    "## Exploring the data\n",
    "\n",
    "This dataset was obtained from [Kaggle](https://www.kaggle.com/rounakbanik/the-movies-dataset/home) who downloaded it\n",
    "through the TMDB API. \n",
    "\n",
    "The movies available in this dataset are in correspondence with the movies that are listed in the MovieLens \n",
    "Latest Full Dataset.\n",
    "\n",
    "Let's see what data we have:"
   ]
  },
  {
   "cell_type": "code",
   "execution_count": null,
   "metadata": {},
   "outputs": [],
   "source": [
    "df.shape"
   ]
  },
  {
   "cell_type": "markdown",
   "metadata": {},
   "source": [
    "Twenty-three columns of data for over 45,000 movies is going be a lot to look at but let's start by looking at what the columns represent:"
   ]
  },
  {
   "cell_type": "code",
   "execution_count": null,
   "metadata": {},
   "outputs": [],
   "source": [
    "df.columns"
   ]
  },
  {
   "cell_type": "markdown",
   "metadata": {},
   "source": [
    "Here's an explanation of each column:\n",
    "- __belongs_to_collection__: A stringified dictionary that identifies the collection that a movie belongs to (if any).\n",
    "- __budget__: The budget of the movie in dollars.\n",
    "- __genres__: A stringified list of dictionaries that list out all the genres associated with the movie.\n",
    "- __homepage__: The Official Homepage of the movie.\n",
    "- __id__: An arbitrary ID for the movie.\n",
    "- __imdb_id__: The IMDB ID of the movie.\n",
    "- __original_language__: The language in which the movie was filmed.\n",
    "- __original_title__: The title of the movie in its original language.\n",
    "- __overview__: A blurb of the movie.\n",
    "- __popularity__: The Popularity Score assigned by TMDB.\n",
    "- __poster_path__: The URL of the poster image (relative to http://image.tmdb.org/t/p/w185/).\n",
    "- __production_companies__: A stringified list of production companies involved with the making of the movie.\n",
    "- __production_countries__: A stringified list of countries where the movie was filmed or produced.\n",
    "- __release_date__: Theatrical release date of the movie.\n",
    "- __revenue__: World-wide revenue of the movie in dollars.\n",
    "- __runtime__: Duration of the movie in minutes.\n",
    "- __spoken_languages__: A stringified list of spoken languages in the film.\n",
    "- __status__: Released, To Be Released, Announced, etc.\n",
    "- __tagline__: The tagline of the movie.\n",
    "- __title__: The official title of the movie.\n",
    "- __video__: Indicates if there is a video present of the movie with TMDB.\n",
    "- __vote_average__: The average rating of the movie on TMDB.\n",
    "- __vote_count__: The number of votes by users, as counted by TMDB.\n",
    "\n",
    "## Filtering the data \n",
    "\n",
    "Let's start by only looking at films that cost over a million dollars to make. \n",
    "\n",
    "Let's create a variable called `money_losers_df` that contains all columns for the movies whose revenue was less than their budget."
   ]
  },
  {
   "cell_type": "code",
   "execution_count": null,
   "metadata": {},
   "outputs": [],
   "source": [
    "money_loser_df = df[df.revenue<df.budget]\n",
    "print(money_loser_df.shape)\n",
    "money_loser_df.head()"
   ]
  },
  {
   "cell_type": "markdown",
   "metadata": {},
   "source": [
    "That's more than 5000 movies that lost money! Clearly a risky business.\n",
    "\n",
    "Let's create a Series object called `vote_lookup` such that we are able to use a call to `vote_lookup['Dead Presidents']` to find the vote average of that movie."
   ]
  },
  {
   "cell_type": "code",
   "execution_count": null,
   "metadata": {},
   "outputs": [],
   "source": [
    "vote_lookup = pd.Series(money_loser_df['vote_average'].values, index=money_loser_df['title'])\n",
    "vote_lookup['Dead Presidents']"
   ]
  },
  {
   "cell_type": "markdown",
   "metadata": {},
   "source": [
    "We can use the `startswith` predicate (in the `str` attribute) to find all movies that start with a particular string or letter. `sort_index` and double-bracket notation (`[[]]`) allows us to find the first movie that starts with a `P` or the last one that starts with an 'R':"
   ]
  },
  {
   "cell_type": "code",
   "execution_count": null,
   "metadata": {},
   "outputs": [],
   "source": [
    "print(vote_lookup[vote_lookup.index.str.startswith('Star')])"
   ]
  },
  {
   "cell_type": "code",
   "execution_count": null,
   "metadata": {},
   "outputs": [],
   "source": [
    "print(vote_lookup[vote_lookup.index.str.startswith('P')].sort_index()[[0]])\n",
    "print(vote_lookup[vote_lookup.index.str.startswith('R')].sort_index()[[-1]])"
   ]
  },
  {
   "cell_type": "markdown",
   "metadata": {},
   "source": [
    "Note that we could have used iloc instead but that only gives us the value, not the index:"
   ]
  },
  {
   "cell_type": "code",
   "execution_count": null,
   "metadata": {},
   "outputs": [],
   "source": [
    "print(vote_lookup[vote_lookup.index.str.startswith('P')].sort_index().iloc[0])"
   ]
  },
  {
   "cell_type": "markdown",
   "metadata": {},
   "source": [
    "We can even do slices using strings:"
   ]
  },
  {
   "cell_type": "code",
   "execution_count": null,
   "metadata": {},
   "outputs": [],
   "source": [
    "vote_lookup_as_and_bs = vote_lookup.sort_index()[\"P2\":\"Ryna\"]\n",
    "vote_lookup_as_and_bs"
   ]
  },
  {
   "cell_type": "markdown",
   "metadata": {},
   "source": [
    "## Column Arithmetic\n",
    "\n",
    "We can do arithmetic on columns as if they were just numbers:"
   ]
  },
  {
   "cell_type": "code",
   "execution_count": null,
   "metadata": {},
   "outputs": [],
   "source": [
    "money_loser_df.loc[: , 'loss'] = money_loser_df['budget'] - money_loser_df['revenue']\n",
    "money_loser_df.head()"
   ]
  },
  {
   "cell_type": "markdown",
   "metadata": {},
   "source": [
    "## Merging\n",
    "\n",
    "Frequently data comes from different sources and has to be merged into a single data frame. For example, let's say that I have some notes about some of these movies that I want to merge:"
   ]
  },
  {
   "cell_type": "code",
   "execution_count": null,
   "metadata": {},
   "outputs": [],
   "source": [
    "my_notes_dict = {\n",
    "    \"Cutthroat Island\": \"Has one of my favorite stunts\",\n",
    "    \"The Neverending Story III: Escape from Fantasia\": \"Too many sequels here\",\n",
    "    \"Bio-Dome\": \"First Pauly Shore movie I ever saw\",\n",
    "    \"The Empire Strikes Back\": \"My favorite in the SW series\",\n",
    "    \"Mighty Aphrodite\": \"Features Helena Bonham Carter\",\n",
    "}\n",
    "my_notes = pd.DataFrame(pd.Series(my_notes_dict), columns=['my_notes'])\n",
    "my_notes['title'] = my_notes.index\n",
    "pd.merge(my_notes, money_loser_df)[[\"title\", \"my_notes\", \"loss\"]]"
   ]
  }
 ],
 "metadata": {
  "kernelspec": {
   "display_name": "Python 3",
   "language": "python",
   "name": "python3"
  },
  "language_info": {
   "codemirror_mode": {
    "name": "ipython",
    "version": 3
   },
   "file_extension": ".py",
   "mimetype": "text/x-python",
   "name": "python",
   "nbconvert_exporter": "python",
   "pygments_lexer": "ipython3",
   "version": "3.6.7"
  }
 },
 "nbformat": 4,
 "nbformat_minor": 2
}
